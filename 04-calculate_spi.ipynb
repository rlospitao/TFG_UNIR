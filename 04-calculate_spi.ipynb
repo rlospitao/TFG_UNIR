{
 "cells": [
  {
   "cell_type": "markdown",
   "metadata": {
    "id": "cjmJnKyMVHId"
   },
   "source": [
    "# Cálculo del Índice Estandarizado de Precipitación (SPI)"
   ]
  },
  {
   "cell_type": "markdown",
   "metadata": {
    "id": "JHz6YmSmVQYF"
   },
   "source": [
    "**Este notebook pertenece al Trabajo Fin de Grado del Curso de Adaptación al Grado de Ingeniería en Informática**\n",
    "\n",
    "\n",
    "*Fecha:* Mayo 2022\n",
    "\n",
    "*Autor:* Ruth Lospitao Ruiz\n",
    "\n",
    "\n",
    "*Email:* rlospitao@gmail.com"
   ]
  },
  {
   "cell_type": "markdown",
   "metadata": {
    "id": "H4QvNzLFVQ3z"
   },
   "source": [
    "# Introducción"
   ]
  },
  {
   "cell_type": "markdown",
   "metadata": {
    "id": "U4IlrF74VkaJ"
   },
   "source": [
    "El Índice Estandarizado de Precipitación (SPI) es  la diferencia de la precipitación media para un período de tiempo específico, dividida por la desviación estándar; donde la media y la desviación estándar se determinan a partir de registros anteriores.\n",
    "\n",
    "Este libro, se encarga de abrir un fichero csv con las predicciones de precipitaciones, para calcular el índice SPI y poder identificaR si existirá sequía y su categoría.\n",
    "\n",
    "<table>\n",
    " <tr><td>Valores SPI</td><td>Categoría</td></tr>\n",
    "  <tr><td>0 a -0.99</td><td>Sequía leve</td></tr>\n",
    "  <tr><td>-1.00 a -1.49</td><td>Sequía leve</td></tr>\n",
    "\n",
    "  <tr><td>-1.50 a -1.99</td><td>Sequía leve</td></tr>  \n",
    "  <tr><td>-<=-2.00</td><td>Sequía leve</td></tr>  \n",
    "</table>"
   ]
  },
  {
   "cell_type": "markdown",
   "metadata": {
    "id": "Gy7XkCA2W2Qk"
   },
   "source": [
    "# Importación de paquetes y definición de funciones"
   ]
  },
  {
   "cell_type": "code",
   "execution_count": 1,
   "metadata": {
    "id": "JHe9fXcRW5pw"
   },
   "outputs": [],
   "source": [
    "import pandas as pd\n",
    "import numpy as np\n",
    "from scipy import stats as st\n",
    "import matplotlib.pyplot as plt\n",
    "import matplotlib.dates as mdates\n"
   ]
  },
  {
   "cell_type": "code",
   "execution_count": 2,
   "metadata": {
    "id": "MjqZE1nNW9dj"
   },
   "outputs": [],
   "source": [
    "#Standardized Precipitation Index Function\n",
    "def spi(ds, thresh):\n",
    "    #ds - data ; thresh - time interval / scale\n",
    "    \n",
    "    #Rolling Mean / Moving Averages\n",
    "    ds_ma = ds.rolling(thresh, center=False).mean()\n",
    "    \n",
    "    #Natural log of moving averages\n",
    "    ds_In = np.log(ds_ma)\n",
    "    ds_In[ np.isinf(ds_In) == True] = np.nan  #Change infinity to NaN\n",
    "    \n",
    "    #Overall Mean of Moving Averages\n",
    "    ds_mu = np.nanmean(ds_ma)\n",
    "    \n",
    "    #Summation of Natural log of moving averages\n",
    "    ds_sum = np.nansum(ds_In)\n",
    "        \n",
    "    #Computing essentials for gamma distribution\n",
    "    n = len(ds_In[thresh-1:])                  #size of data\n",
    "    A = np.log(ds_mu) - (ds_sum/n)             #Computing A\n",
    "    alpha = (1/(4*A))*(1+(1+((4*A)/3))**0.5)   #Computing alpha  (a)\n",
    "    beta = ds_mu/alpha                         #Computing beta (scale)\n",
    "    \n",
    "    #Gamma Distribution (CDF)\n",
    "    gamma = st.gamma.cdf(ds_ma, a=alpha, scale=beta)  \n",
    "    \n",
    "    #Standardized Precipitation Index   (Inverse of CDF)\n",
    "    norm_spi = st.norm.ppf(gamma, loc=0, scale=1)  #loc is mean and scale is standard dev.\n",
    "    \n",
    "    return ds_ma, ds_In, ds_mu, ds_sum, n, A, alpha, beta, gamma, norm_spi"
   ]
  },
  {
   "cell_type": "markdown",
   "metadata": {
    "id": "hWrGr-neXBKI"
   },
   "source": [
    "# Carga de datos"
   ]
  },
  {
   "cell_type": "code",
   "execution_count": 4,
   "metadata": {
    "colab": {
     "base_uri": "https://localhost:8080/",
     "height": 206
    },
    "executionInfo": {
     "elapsed": 370,
     "status": "ok",
     "timestamp": 1657387851936,
     "user": {
      "displayName": "Ruth Lospitao",
      "userId": "16152683378446323072"
     },
     "user_tz": -120
    },
    "id": "D3qDn8GYXDlC",
    "outputId": "aa736942-b7fd-45c2-c54a-50e628b92fea"
   },
   "outputs": [
    {
     "data": {
      "text/html": [
       "<div>\n",
       "<style scoped>\n",
       "    .dataframe tbody tr th:only-of-type {\n",
       "        vertical-align: middle;\n",
       "    }\n",
       "\n",
       "    .dataframe tbody tr th {\n",
       "        vertical-align: top;\n",
       "    }\n",
       "\n",
       "    .dataframe thead th {\n",
       "        text-align: right;\n",
       "    }\n",
       "</style>\n",
       "<table border=\"1\" class=\"dataframe\">\n",
       "  <thead>\n",
       "    <tr style=\"text-align: right;\">\n",
       "      <th></th>\n",
       "      <th>precipitation</th>\n",
       "    </tr>\n",
       "  </thead>\n",
       "  <tbody>\n",
       "    <tr>\n",
       "      <th>0</th>\n",
       "      <td>143.5</td>\n",
       "    </tr>\n",
       "    <tr>\n",
       "      <th>1</th>\n",
       "      <td>98.6</td>\n",
       "    </tr>\n",
       "    <tr>\n",
       "      <th>2</th>\n",
       "      <td>121.7</td>\n",
       "    </tr>\n",
       "    <tr>\n",
       "      <th>3</th>\n",
       "      <td>111.0</td>\n",
       "    </tr>\n",
       "    <tr>\n",
       "      <th>4</th>\n",
       "      <td>108.0</td>\n",
       "    </tr>\n",
       "  </tbody>\n",
       "</table>\n",
       "</div>"
      ],
      "text/plain": [
       "   precipitation\n",
       "0          143.5\n",
       "1           98.6\n",
       "2          121.7\n",
       "3          111.0\n",
       "4          108.0"
      ]
     },
     "execution_count": 4,
     "metadata": {},
     "output_type": "execute_result"
    }
   ],
   "source": [
    "df = pd.read_excel(\"data/rainfall_3195.xlsx\", sheet_name = 0, usecols=[\"precipitation\"])  # se lee un fichereo de ejemplo que tendría las predicciones\n",
    "df.head(5)"
   ]
  },
  {
   "cell_type": "code",
   "execution_count": 5,
   "metadata": {
    "id": "Y2HJKlAIXHWT"
   },
   "outputs": [],
   "source": [
    "df = df.set_index(\n",
    "    pd.date_range('1985','2021', freq='M')\n",
    ")"
   ]
  },
  {
   "cell_type": "code",
   "execution_count": 6,
   "metadata": {
    "colab": {
     "base_uri": "https://localhost:8080/",
     "height": 206
    },
    "executionInfo": {
     "elapsed": 7,
     "status": "ok",
     "timestamp": 1657387855770,
     "user": {
      "displayName": "Ruth Lospitao",
      "userId": "16152683378446323072"
     },
     "user_tz": -120
    },
    "id": "NBMCMpTDXJ-T",
    "outputId": "5032e046-39cc-4f79-b8a1-a9047135a4c2"
   },
   "outputs": [
    {
     "data": {
      "text/html": [
       "<div>\n",
       "<style scoped>\n",
       "    .dataframe tbody tr th:only-of-type {\n",
       "        vertical-align: middle;\n",
       "    }\n",
       "\n",
       "    .dataframe tbody tr th {\n",
       "        vertical-align: top;\n",
       "    }\n",
       "\n",
       "    .dataframe thead th {\n",
       "        text-align: right;\n",
       "    }\n",
       "</style>\n",
       "<table border=\"1\" class=\"dataframe\">\n",
       "  <thead>\n",
       "    <tr style=\"text-align: right;\">\n",
       "      <th></th>\n",
       "      <th>precipitation</th>\n",
       "    </tr>\n",
       "  </thead>\n",
       "  <tbody>\n",
       "    <tr>\n",
       "      <th>1985-01-31</th>\n",
       "      <td>143.5</td>\n",
       "    </tr>\n",
       "    <tr>\n",
       "      <th>1985-02-28</th>\n",
       "      <td>98.6</td>\n",
       "    </tr>\n",
       "    <tr>\n",
       "      <th>1985-03-31</th>\n",
       "      <td>121.7</td>\n",
       "    </tr>\n",
       "    <tr>\n",
       "      <th>1985-04-30</th>\n",
       "      <td>111.0</td>\n",
       "    </tr>\n",
       "    <tr>\n",
       "      <th>1985-05-31</th>\n",
       "      <td>108.0</td>\n",
       "    </tr>\n",
       "  </tbody>\n",
       "</table>\n",
       "</div>"
      ],
      "text/plain": [
       "            precipitation\n",
       "1985-01-31          143.5\n",
       "1985-02-28           98.6\n",
       "1985-03-31          121.7\n",
       "1985-04-30          111.0\n",
       "1985-05-31          108.0"
      ]
     },
     "execution_count": 6,
     "metadata": {},
     "output_type": "execute_result"
    }
   ],
   "source": [
    "df.head(5)"
   ]
  },
  {
   "cell_type": "markdown",
   "metadata": {
    "id": "gjdkJwknXL_z"
   },
   "source": [
    "# Estimación del índice SPI"
   ]
  },
  {
   "cell_type": "code",
   "execution_count": 7,
   "metadata": {
    "colab": {
     "base_uri": "https://localhost:8080/"
    },
    "executionInfo": {
     "elapsed": 242,
     "status": "ok",
     "timestamp": 1657387858286,
     "user": {
      "displayName": "Ruth Lospitao",
      "userId": "16152683378446323072"
     },
     "user_tz": -120
    },
    "id": "DkD1DKcsXQNU",
    "outputId": "775a614c-9f9b-45f1-fd5a-16ae2b608ed7"
   },
   "outputs": [
    {
     "name": "stderr",
     "output_type": "stream",
     "text": [
      "C:\\ProgramData\\Anaconda3\\lib\\site-packages\\scipy\\stats\\_distn_infrastructure.py:903: RuntimeWarning: invalid value encountered in greater\n",
      "  return (a < x) & (x < b)\n",
      "C:\\ProgramData\\Anaconda3\\lib\\site-packages\\scipy\\stats\\_distn_infrastructure.py:903: RuntimeWarning: invalid value encountered in less\n",
      "  return (a < x) & (x < b)\n",
      "C:\\ProgramData\\Anaconda3\\lib\\site-packages\\scipy\\stats\\_distn_infrastructure.py:1827: RuntimeWarning: invalid value encountered in greater_equal\n",
      "  cond2 = (x >= np.asarray(_b)) & cond0\n",
      "C:\\ProgramData\\Anaconda3\\lib\\site-packages\\scipy\\stats\\_distn_infrastructure.py:1997: RuntimeWarning: invalid value encountered in greater\n",
      "  cond1 = (0 < q) & (q < 1)\n",
      "C:\\ProgramData\\Anaconda3\\lib\\site-packages\\scipy\\stats\\_distn_infrastructure.py:1997: RuntimeWarning: invalid value encountered in less\n",
      "  cond1 = (0 < q) & (q < 1)\n"
     ]
    },
    {
     "data": {
      "text/plain": [
       "array([        nan,         nan,         nan,         nan,         nan,\n",
       "               nan,         nan,         nan,         nan,         nan,\n",
       "               nan, -1.15976075, -1.3652348 , -1.18616854, -1.46162183,\n",
       "       -1.38906773, -1.76636712, -1.88599492, -1.8739126 , -1.81390246,\n",
       "       -1.55148646, -0.52595333, -0.60599481, -0.85786178, -0.53169094,\n",
       "       -0.35586895, -0.44278313, -0.48176106, -0.37636489, -0.15087706,\n",
       "        0.09129107,  0.09476058, -0.00660903, -0.17976071, -0.00837066,\n",
       "        0.57706586,  0.78128349,  0.27675957,  0.26324746,  0.58996724,\n",
       "        0.92064506,  1.48360044,  1.44767068,  1.40955572,  1.29314325,\n",
       "        1.09791224,  1.10929642,  0.29630373, -0.47948379, -0.16566366,\n",
       "        0.01519571, -0.17433509, -0.32617535, -1.04530096, -1.17976853,\n",
       "       -1.0328126 , -0.91995841, -1.32835855, -0.03662192,  0.90710913,\n",
       "        1.06666328,  0.72652486,  0.58190671,  0.39317997,  0.06137738,\n",
       "       -0.11029909, -0.00766595, -0.0981397 ,  0.00359905,  0.38122945,\n",
       "       -0.87322431, -1.73427794, -1.96397077, -1.315246  , -0.83087081,\n",
       "       -0.92118248, -0.5762427 , -0.62228419, -0.82926325, -0.86796426,\n",
       "       -0.8032004 , -0.80840394, -0.94817597, -1.2930234 , -1.33799359,\n",
       "       -1.90295577, -2.46526643, -2.41685539, -2.35936172, -1.66182736,\n",
       "       -1.6215748 , -1.40634283, -1.54739095, -1.17124614, -1.49847728,\n",
       "       -0.99220088, -1.02533229, -1.006259  , -0.93425492, -0.92159056,\n",
       "       -0.84979204, -0.97446926, -1.02325612, -1.18915764, -1.24667743,\n",
       "       -0.75418792, -0.25547508, -0.6390064 , -0.28520553,  0.00465415,\n",
       "       -0.13289061, -0.39692796, -0.10493183, -0.53896622, -0.40292264,\n",
       "       -0.41906183, -0.48783786, -1.4316862 , -1.65115736, -1.57612286,\n",
       "       -1.77963528, -1.86812267, -1.69536318, -1.53194606, -2.31036416,\n",
       "       -2.0535734 , -2.20037612, -2.00338841, -1.80817626, -2.28212614,\n",
       "       -1.72581513, -0.85019527,  0.89169594,  1.11139155,  1.24070905,\n",
       "        1.38422876,  1.84979192,  1.74910996,  1.77269346,  1.71276988,\n",
       "        1.77406236,  1.94114404,  1.77789398,  2.30522056,  1.52869513,\n",
       "        1.08921221,  0.77752077,  0.71292609,  0.54859726,  0.85301537,\n",
       "        0.9641541 ,  0.9708712 ,  0.92617505,  0.98611386,  1.71856285,\n",
       "        1.23541548,  1.06154235,  1.09851186,  1.24864221,  1.54959041,\n",
       "        1.70669634,  1.51596002,  1.43937654,  1.43451016,  1.58279018,\n",
       "        1.37095511,  0.35593083, -0.16061074, -0.6733718 , -0.55969027,\n",
       "       -0.4480668 , -0.87808385, -1.31393639, -1.40634283, -1.36391367,\n",
       "       -1.41833344, -1.40412513, -0.6796409 , -0.69023465, -0.70320765,\n",
       "       -0.78322858, -0.93630009, -0.9248562 ,  0.16788702,  0.24157103,\n",
       "        0.30807008,  0.25952684,  0.23953524, -0.11173112, -0.46091724,\n",
       "        0.32886278,  0.69231925,  1.33215191,  1.68318474,  1.97909242,\n",
       "        0.99585211,  0.85332566,  0.80350505,  0.7850442 ,  0.85301537,\n",
       "        0.94304563,  1.19115242,  0.34758811, -0.38532958, -1.00336194,\n",
       "       -1.42990401, -1.694896  , -1.29084935, -1.372286  , -1.20841019,\n",
       "       -1.27391996, -0.88903228, -0.57393039, -0.68709384,  0.01870578,\n",
       "        0.74198886,  0.85921851,  1.23453285,  1.19559085,  1.13738046,\n",
       "        1.16565299,  1.02044292,  1.00162792,  0.75049522,  0.53431854,\n",
       "        0.87346509,  0.99737251,  0.93568885,  0.80288005,  0.6815159 ,\n",
       "        0.7850442 ,  0.72399686,  1.1140844 ,  1.14036171,  1.14840498,\n",
       "        1.25803335,  1.11318689,  1.07990054,  0.43681882,  0.0484654 ,\n",
       "       -0.25108238, -0.20187241, -0.53245635, -0.53781692, -1.14151592,\n",
       "       -0.90081412, -0.91180438, -1.10225058, -1.10309223, -0.95227661,\n",
       "       -0.7347728 , -0.6686742 , -0.55392661, -0.52518872, -0.12176424,\n",
       "       -0.05895669, -0.07780611, -0.04476696, -0.01965642, -0.03839171,\n",
       "        0.21165026,  0.38355482,  1.1439376 ,  1.03316054,  1.09491342,\n",
       "        1.08620976,  0.79631422,  1.00102016,  1.24834854,  1.24981676,\n",
       "        1.23070687,  1.24834854,  1.0161987 ,  0.20107783, -0.84938884,\n",
       "       -0.983947  , -0.94448781, -1.16316146, -1.20583948, -0.73200429,\n",
       "       -0.41568041, -0.48745788, -0.41680735, -0.49810597, -0.24632706,\n",
       "        0.15208869,  0.12866517,  0.48803283,  0.92279613,  1.05068597,\n",
       "        1.14810724,  0.64676777,  0.02291537, -0.0703309 , -0.13935993,\n",
       "       -0.15087706, -0.39617903, -0.82364016, -0.73279516, -0.63044515,\n",
       "       -1.03988608, -0.87808385, -0.88538057, -1.07161325, -0.8659424 ,\n",
       "       -0.5789415 , -0.55546306, -0.4522214 , -0.38495579, -0.17144331,\n",
       "       -0.12822236, -0.0214216 ,  0.05998272, -0.16674695,  0.24157103,\n",
       "        0.73757407,  0.74671589,  0.45689076,  0.4506452 ,  0.48868693,\n",
       "        0.38156169,  0.18193642,  0.78002948,  0.19595608, -0.20804836,\n",
       "       -0.38159273, -1.06952065, -0.91588   , -0.94366853, -1.02367129,\n",
       "       -1.01205738, -1.11741873, -0.63394603, -0.60134863, -0.87322431,\n",
       "       -0.7804378 ,  0.19083037,  0.53983885,  1.37961454,  0.79944157,\n",
       "        0.95223092,  0.98093501,  1.0443455 ,  1.00071626,  0.72051937,\n",
       "        0.88243189,  0.43121441,  0.59479903,  0.61954901,  0.71229294,\n",
       "        0.48443419,  0.65794443,  0.43879574,  0.45294686,  0.50567141,\n",
       "        0.59125605,  0.74324971,  0.86076845,  1.57211471,  1.49923   ,\n",
       "        1.32052918,  1.33795641,  0.76873321,  0.71007647,  0.52131199,\n",
       "        0.63973319,  0.56640396,  0.61152304,  0.52619234,  0.29226479,\n",
       "       -0.39093902, -0.6686742 , -0.91547231, -0.28630934, -0.07139826,\n",
       "        0.28451667,  1.02347298,  0.9049533 ,  0.89323877,  0.77250066,\n",
       "        0.69104914,  0.80943975,  1.21272735,  1.39373652,  1.14095782,\n",
       "        0.81973548,  0.78253729,  0.23002668, -0.24267154, -0.10779381,\n",
       "        0.03447776,  0.48639732,  0.40742657,  0.02291537, -0.77525834,\n",
       "       -0.3901908 , -0.06712988, -0.21386647,  0.70785929,  1.12484575,\n",
       "        1.18996838,  1.18937629,  1.0349755 ,  0.61826548,  0.7192544 ,\n",
       "        1.12544314,  1.78910417,  1.37846054,  1.32256448,  0.70469068,\n",
       "       -0.44278313, -0.50229414, -0.983947  , -1.19428539, -1.17209782,\n",
       "       -0.99550566, -0.8393176 , -1.18062145, -1.03239678, -0.29440984,\n",
       "       -0.25620749, -0.26536976,  0.24631877,  0.35593083,  0.69708009,\n",
       "        0.8144335 ,  0.79850352,  0.81100068,  1.03437057,  1.42505455,\n",
       "        0.99159326,  1.20800407])"
      ]
     },
     "execution_count": 7,
     "metadata": {},
     "output_type": "execute_result"
    }
   ],
   "source": [
    "spi(df[\"precipitation\"], 12)[9] #[9] tiene el valor norm_spi"
   ]
  },
  {
   "cell_type": "code",
   "execution_count": 8,
   "metadata": {
    "id": "13u8eUZBXSzA"
   },
   "outputs": [],
   "source": [
    "times = [3, 6, 9, 12, 24]\n",
    "for i in times:\n",
    "    x = spi(df['precipitation'], i)\n",
    "    df['spi_'+str(i)] = x[9]"
   ]
  },
  {
   "cell_type": "code",
   "execution_count": 9,
   "metadata": {
    "colab": {
     "base_uri": "https://localhost:8080/",
     "height": 423
    },
    "executionInfo": {
     "elapsed": 9,
     "status": "ok",
     "timestamp": 1657387862261,
     "user": {
      "displayName": "Ruth Lospitao",
      "userId": "16152683378446323072"
     },
     "user_tz": -120
    },
    "id": "Gb380EqGXTka",
    "outputId": "463f1375-77d1-41a1-bd38-00110b20a825"
   },
   "outputs": [
    {
     "data": {
      "text/html": [
       "<div>\n",
       "<style scoped>\n",
       "    .dataframe tbody tr th:only-of-type {\n",
       "        vertical-align: middle;\n",
       "    }\n",
       "\n",
       "    .dataframe tbody tr th {\n",
       "        vertical-align: top;\n",
       "    }\n",
       "\n",
       "    .dataframe thead th {\n",
       "        text-align: right;\n",
       "    }\n",
       "</style>\n",
       "<table border=\"1\" class=\"dataframe\">\n",
       "  <thead>\n",
       "    <tr style=\"text-align: right;\">\n",
       "      <th></th>\n",
       "      <th>precipitation</th>\n",
       "      <th>spi_3</th>\n",
       "      <th>spi_6</th>\n",
       "      <th>spi_9</th>\n",
       "      <th>spi_12</th>\n",
       "      <th>spi_24</th>\n",
       "    </tr>\n",
       "  </thead>\n",
       "  <tbody>\n",
       "    <tr>\n",
       "      <th>1985-01-31</th>\n",
       "      <td>143.5</td>\n",
       "      <td>NaN</td>\n",
       "      <td>NaN</td>\n",
       "      <td>NaN</td>\n",
       "      <td>NaN</td>\n",
       "      <td>NaN</td>\n",
       "    </tr>\n",
       "    <tr>\n",
       "      <th>1985-02-28</th>\n",
       "      <td>98.6</td>\n",
       "      <td>NaN</td>\n",
       "      <td>NaN</td>\n",
       "      <td>NaN</td>\n",
       "      <td>NaN</td>\n",
       "      <td>NaN</td>\n",
       "    </tr>\n",
       "    <tr>\n",
       "      <th>1985-03-31</th>\n",
       "      <td>121.7</td>\n",
       "      <td>0.446876</td>\n",
       "      <td>NaN</td>\n",
       "      <td>NaN</td>\n",
       "      <td>NaN</td>\n",
       "      <td>NaN</td>\n",
       "    </tr>\n",
       "    <tr>\n",
       "      <th>1985-04-30</th>\n",
       "      <td>111.0</td>\n",
       "      <td>0.297066</td>\n",
       "      <td>NaN</td>\n",
       "      <td>NaN</td>\n",
       "      <td>NaN</td>\n",
       "      <td>NaN</td>\n",
       "    </tr>\n",
       "    <tr>\n",
       "      <th>1985-05-31</th>\n",
       "      <td>108.0</td>\n",
       "      <td>0.341361</td>\n",
       "      <td>NaN</td>\n",
       "      <td>NaN</td>\n",
       "      <td>NaN</td>\n",
       "      <td>NaN</td>\n",
       "    </tr>\n",
       "    <tr>\n",
       "      <th>...</th>\n",
       "      <td>...</td>\n",
       "      <td>...</td>\n",
       "      <td>...</td>\n",
       "      <td>...</td>\n",
       "      <td>...</td>\n",
       "      <td>...</td>\n",
       "    </tr>\n",
       "    <tr>\n",
       "      <th>2020-08-31</th>\n",
       "      <td>49.6</td>\n",
       "      <td>-1.262952</td>\n",
       "      <td>-0.026982</td>\n",
       "      <td>0.275883</td>\n",
       "      <td>0.811001</td>\n",
       "      <td>-0.124482</td>\n",
       "    </tr>\n",
       "    <tr>\n",
       "      <th>2020-09-30</th>\n",
       "      <td>144.3</td>\n",
       "      <td>-0.436296</td>\n",
       "      <td>-0.218340</td>\n",
       "      <td>-0.027053</td>\n",
       "      <td>1.034371</td>\n",
       "      <td>0.168491</td>\n",
       "    </tr>\n",
       "    <tr>\n",
       "      <th>2020-10-31</th>\n",
       "      <td>236.3</td>\n",
       "      <td>0.727552</td>\n",
       "      <td>-0.004638</td>\n",
       "      <td>0.233391</td>\n",
       "      <td>1.425055</td>\n",
       "      <td>0.298474</td>\n",
       "    </tr>\n",
       "    <tr>\n",
       "      <th>2020-11-30</th>\n",
       "      <td>166.7</td>\n",
       "      <td>1.160700</td>\n",
       "      <td>0.220202</td>\n",
       "      <td>0.749336</td>\n",
       "      <td>0.991593</td>\n",
       "      <td>0.007766</td>\n",
       "    </tr>\n",
       "    <tr>\n",
       "      <th>2020-12-31</th>\n",
       "      <td>301.3</td>\n",
       "      <td>1.657080</td>\n",
       "      <td>1.106492</td>\n",
       "      <td>1.094204</td>\n",
       "      <td>1.208004</td>\n",
       "      <td>0.675019</td>\n",
       "    </tr>\n",
       "  </tbody>\n",
       "</table>\n",
       "<p>432 rows × 6 columns</p>\n",
       "</div>"
      ],
      "text/plain": [
       "            precipitation     spi_3     spi_6     spi_9    spi_12    spi_24\n",
       "1985-01-31          143.5       NaN       NaN       NaN       NaN       NaN\n",
       "1985-02-28           98.6       NaN       NaN       NaN       NaN       NaN\n",
       "1985-03-31          121.7  0.446876       NaN       NaN       NaN       NaN\n",
       "1985-04-30          111.0  0.297066       NaN       NaN       NaN       NaN\n",
       "1985-05-31          108.0  0.341361       NaN       NaN       NaN       NaN\n",
       "...                   ...       ...       ...       ...       ...       ...\n",
       "2020-08-31           49.6 -1.262952 -0.026982  0.275883  0.811001 -0.124482\n",
       "2020-09-30          144.3 -0.436296 -0.218340 -0.027053  1.034371  0.168491\n",
       "2020-10-31          236.3  0.727552 -0.004638  0.233391  1.425055  0.298474\n",
       "2020-11-30          166.7  1.160700  0.220202  0.749336  0.991593  0.007766\n",
       "2020-12-31          301.3  1.657080  1.106492  1.094204  1.208004  0.675019\n",
       "\n",
       "[432 rows x 6 columns]"
      ]
     },
     "execution_count": 9,
     "metadata": {},
     "output_type": "execute_result"
    }
   ],
   "source": [
    "df"
   ]
  },
  {
   "cell_type": "code",
   "execution_count": 10,
   "metadata": {
    "id": "skrrMj4JXVa8"
   },
   "outputs": [],
   "source": [
    "df.to_excel(\"data/spi_3195.xlsx\")"
   ]
  }
 ],
 "metadata": {
  "colab": {
   "authorship_tag": "ABX9TyM1N1LX0oW/TCW+hCtKepLZ",
   "name": "04-calculate_spi.ipynb",
   "provenance": [],
   "toc_visible": true
  },
  "kernelspec": {
   "display_name": "Python 3",
   "language": "python",
   "name": "python3"
  },
  "language_info": {
   "codemirror_mode": {
    "name": "ipython",
    "version": 3
   },
   "file_extension": ".py",
   "mimetype": "text/x-python",
   "name": "python",
   "nbconvert_exporter": "python",
   "pygments_lexer": "ipython3",
   "version": "3.7.6"
  }
 },
 "nbformat": 4,
 "nbformat_minor": 1
}
